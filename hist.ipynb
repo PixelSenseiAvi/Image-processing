{
 "cells": [
  {
   "cell_type": "code",
   "execution_count": 1,
   "metadata": {
    "collapsed": false
   },
   "outputs": [],
   "source": [
    "import Tkinter as tk\n",
    "import cv2\n",
    "import matplotlib\n",
    "matplotlib.use('TkAgg')\n",
    "import numpy as np\n",
    "from matplotlib.backends.backend_tkagg import FigureCanvasTkAgg\n",
    "from matplotlib.figure import Figure\n",
    "from PIL import Image, ImageTk\n",
    "import Tkconstants, tkFileDialog\n",
    "import matplotlib.patches as mpatches"
   ]
  },
  {
   "cell_type": "code",
   "execution_count": 6,
   "metadata": {
    "collapsed": false
   },
   "outputs": [],
   "source": [
    "class histograms(tk.Frame):\n",
    "    \n",
    "    path = \"/home/cloud/Downloads/new1.jpg\"\n",
    "    \n",
    "    def __init__(self):\n",
    "        tk.Frame.__init__(self)   \n",
    "\n",
    "        self.initUI()\n",
    "\n",
    "    def initUI(self):\n",
    "        self.master.title(\"\")\n",
    "        self.pack(fill=\"both\", expand=True)\n",
    "        \n",
    "        lbl = tk.Label(self, text=\"RGB & gray plots\")\n",
    "        lbl.grid(sticky=\"w\", pady=4, padx=5)\n",
    "        \n",
    "        if len(histograms.path) > 0:\n",
    "\n",
    "            image = cv2.imread(histograms.path)\n",
    "#            gray = cv2.cvtColor(image, cv2.COLOR_BGR2GRAY)\n",
    " \n",
    "            # OpenCV represents images in BGR order; however PIL represents\n",
    "            # images in RGB order, so we need to swap the channels\n",
    "            image = cv2.cvtColor(image, cv2.COLOR_BGR2RGB)\n",
    " \n",
    "            # convert the images to PIL format...\n",
    "            image = Image.fromarray(image)\n",
    "            # ...and then to ImageTk format\n",
    "            image = ImageTk.PhotoImage(image)\n",
    "        \n",
    "            label1 = tk.Label(self, image=image)\n",
    "            label1.image = image\n",
    "            label1.grid(row=1, column=0, columnspan=2, rowspan=4, padx=5, sticky=\"nsew\")\n",
    "        \n",
    "            ##GRAY PLOT\n",
    "        \n",
    "            img = cv2.imread(histograms.path)\n",
    "            fig = Figure(figsize=(8,8))\n",
    "            a = fig.add_subplot(111)\n",
    "            a.hist(img.ravel(),150,[0,255], histtype='bar', facecolor= 'gray', align='mid')\n",
    "            gray_patch = mpatches.Patch(color='gray', label='GRAY')\n",
    "            a.legend(handles=[gray_patch])\n",
    "            \n",
    "            ##RGB PLOTS\n",
    "            blue, green, red = cv2.split(img)\n",
    "            \n",
    "            b = fig.add_subplot(121)\n",
    "            b.hist(blue.ravel(),150,[0,255], histtype='bar', facecolor= 'blue', align='mid')\n",
    "            #b.set_axis_bgcolor('BLUE')\n",
    "            blue_patch = mpatches.Patch(color='blue', label='BLUE')\n",
    "            b.legend(handles=[blue_patch])\n",
    "            \n",
    "            c= fig.add_subplot(211)\n",
    "            c.hist(green.ravel(),150,[0,255], histtype='bar', facecolor= 'green', align='mid')\n",
    "            #c.set_axis_bgcolor('green')\n",
    "            green_patch = mpatches.Patch(color='green', label='GREEN')\n",
    "            c.legend(handles=[green_patch])\n",
    "            \n",
    "            d = fig.add_subplot(221)\n",
    "            d.hist(red.ravel(),150,[0,255], histtype='bar', facecolor= 'red', align= 'mid')\n",
    "            #d.set_axis_bgcolor('red')\n",
    "            red_patch = mpatches.Patch(color='red', label='RED')\n",
    "            d.legend(handles=[red_patch])\n",
    "            \n",
    "            canvas = FigureCanvasTkAgg(fig, master=self)\n",
    "            canvas.get_tk_widget().grid(row=1, column=3, columnspan=21, rowspan=21, sticky=\"EWSN\")\n",
    "            canvas.draw()\n",
    " \n",
    "\n",
    "            hbtn = tk.Button(self, text = \"OPEN IMAGE\", command= self.button_click)\n",
    "            hbtn.grid(row=5, column=1) \n",
    "        \n",
    "        \n",
    "    def button_click(self):\n",
    "        \n",
    "        histograms.path = tkFileDialog.askopenfilename(filetypes=[(\"Image File\",'.jpg')])\n",
    "        self.initUI()\n",
    "        \n",
    "        "
   ]
  },
  {
   "cell_type": "code",
   "execution_count": 7,
   "metadata": {
    "collapsed": false
   },
   "outputs": [],
   "source": [
    "def main():\n",
    "  \n",
    "    root = tk.Tk()\n",
    "    app = histograms()\n",
    "    root.mainloop()  \n",
    "    \n",
    "if __name__ == '__main__':\n",
    "    main() "
   ]
  },
  {
   "cell_type": "code",
   "execution_count": null,
   "metadata": {
    "collapsed": true
   },
   "outputs": [],
   "source": [
    "\n",
    "        \n"
   ]
  }
 ],
 "metadata": {
  "anaconda-cloud": {},
  "kernelspec": {
   "display_name": "Python [default]",
   "language": "python",
   "name": "python2"
  },
  "language_info": {
   "codemirror_mode": {
    "name": "ipython",
    "version": 2
   },
   "file_extension": ".py",
   "mimetype": "text/x-python",
   "name": "python",
   "nbconvert_exporter": "python",
   "pygments_lexer": "ipython2",
   "version": "2.7.12"
  }
 },
 "nbformat": 4,
 "nbformat_minor": 1
}
